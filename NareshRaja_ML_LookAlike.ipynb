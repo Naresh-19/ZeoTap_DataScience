{
 "cells": [
  {
   "cell_type": "markdown",
   "metadata": {},
   "source": [
    "### Using Cosine Similarity to Identify Lookalike Customers\n",
    "\n",
    "- To create the `NareshRaja_ML_LookAlike.csv`, I used **cosine similarity** to identify customers who are similar to each other based on their purchase behavior, such as the products they bought, the total value of their transactions, and other relevant features. \n",
    "- Cosine similarity is a metric used to measure the similarity between two non-zero vectors, allowing us to identify how similar customers are to one another, regardless of their purchasing magnitude.\n"
   ]
  },
  {
   "cell_type": "code",
   "execution_count": 45,
   "metadata": {},
   "outputs": [],
   "source": [
    "import pandas as pd\n",
    "from sklearn.preprocessing import LabelEncoder, MinMaxScaler\n",
    "from sklearn.metrics.pairwise import cosine_similarity\n",
    "import warnings\n",
    "\n",
    "warnings.filterwarnings('ignore')"
   ]
  },
  {
   "cell_type": "code",
   "execution_count": 46,
   "metadata": {},
   "outputs": [],
   "source": [
    "# Load datasets\n",
    "customers = pd.read_csv('Customers.csv')\n",
    "transactions = pd.read_csv('Transactions.csv')"
   ]
  },
  {
   "cell_type": "code",
   "execution_count": 47,
   "metadata": {},
   "outputs": [],
   "source": [
    "# Merge datasets\n",
    "data = transactions.merge(customers, on='CustomerID')\n"
   ]
  },
  {
   "cell_type": "code",
   "execution_count": 48,
   "metadata": {},
   "outputs": [],
   "source": [
    "# Aggregate features for analysis\n",
    "customer_features = data.groupby('CustomerID').agg({\n",
    "    'Region': 'first',\n",
    "    'SignupDate': 'first',\n",
    "    'Quantity': 'sum',\n",
    "    'TotalValue': 'sum',\n",
    "    'ProductID': 'nunique'\n",
    "}).reset_index()"
   ]
  },
  {
   "cell_type": "code",
   "execution_count": 49,
   "metadata": {},
   "outputs": [],
   "source": [
    "# Add derived feature\n",
    "customer_features['SignupDate'] = pd.to_datetime(customer_features['SignupDate'], errors='coerce')\n",
    "customer_features['YearsSinceSignup'] = (pd.Timestamp.now() - customer_features['SignupDate']).dt.days / 365\n",
    "customer_features.drop(columns='SignupDate', inplace=True)"
   ]
  },
  {
   "cell_type": "code",
   "execution_count": 50,
   "metadata": {},
   "outputs": [],
   "source": [
    "# Encode categorical variables\n",
    "encoder = LabelEncoder()\n",
    "customer_features['Region'] = encoder.fit_transform(customer_features['Region'])"
   ]
  },
  {
   "cell_type": "code",
   "execution_count": 51,
   "metadata": {},
   "outputs": [],
   "source": [
    "# Normalize features\n",
    "scaler = MinMaxScaler()\n",
    "normalized_features = scaler.fit_transform(customer_features.iloc[:, 1:])"
   ]
  },
  {
   "cell_type": "code",
   "execution_count": 52,
   "metadata": {},
   "outputs": [
    {
     "name": "stdout",
     "output_type": "stream",
     "text": [
      "Normalized Feature Vector : \n",
      "\n"
     ]
    },
    {
     "data": {
      "text/plain": [
       "array([[1.        , 0.35483871, 0.30894178, 0.44444444, 0.74861878],\n",
       "       [0.        , 0.29032258, 0.16809501, 0.33333333, 0.96593002],\n",
       "       [1.        , 0.41935484, 0.24954138, 0.33333333, 0.16390424],\n",
       "       [1.        , 0.70967742, 0.49780626, 0.77777778, 0.77348066],\n",
       "       [0.        , 0.19354839, 0.18428723, 0.22222222, 0.79742173],\n",
       "       [1.        , 0.35483871, 0.39137101, 0.33333333, 0.16574586],\n",
       "       [0.        , 0.22580645, 0.2357983 , 0.22222222, 0.85082873],\n",
       "       [0.66666667, 0.61290323, 0.39552906, 1.        , 0.32228361],\n",
       "       [0.33333333, 0.06451613, 0.07686723, 0.22222222, 0.46224678],\n",
       "       [0.33333333, 0.35483871, 0.15438686, 0.33333333, 0.68508287]])"
      ]
     },
     "execution_count": 52,
     "metadata": {},
     "output_type": "execute_result"
    }
   ],
   "source": [
    "print(\"Normalized Feature Vector : \\n\")\n",
    "normalized_features[:10]"
   ]
  },
  {
   "cell_type": "code",
   "execution_count": 53,
   "metadata": {},
   "outputs": [],
   "source": [
    "# Calculate similarity matrix\n",
    "similarity_matrix = cosine_similarity(normalized_features)"
   ]
  },
  {
   "cell_type": "code",
   "execution_count": 54,
   "metadata": {},
   "outputs": [
    {
     "name": "stdout",
     "output_type": "stream",
     "text": [
      "Customer ID: C0001\n",
      "Top 3 Lookalikes:\n",
      "  - Lookalike: C0011, Similarity Score: 1.0\n",
      "  - Lookalike: C0184, Similarity Score: 1.0\n",
      "  - Lookalike: C0152, Similarity Score: 0.99\n",
      "\n",
      "\n",
      "Customer ID: C0002\n",
      "Top 3 Lookalikes:\n",
      "  - Lookalike: C0043, Similarity Score: 1.0\n",
      "  - Lookalike: C0159, Similarity Score: 1.0\n",
      "  - Lookalike: C0005, Similarity Score: 1.0\n",
      "\n",
      "\n",
      "Customer ID: C0003\n",
      "Top 3 Lookalikes:\n",
      "  - Lookalike: C0190, Similarity Score: 1.0\n",
      "  - Lookalike: C0036, Similarity Score: 0.99\n",
      "  - Lookalike: C0191, Similarity Score: 0.99\n",
      "\n",
      "\n",
      "Customer ID: C0004\n",
      "Top 3 Lookalikes:\n",
      "  - Lookalike: C0067, Similarity Score: 1.0\n",
      "  - Lookalike: C0104, Similarity Score: 1.0\n",
      "  - Lookalike: C0102, Similarity Score: 1.0\n",
      "\n",
      "\n",
      "Customer ID: C0005\n",
      "Top 3 Lookalikes:\n",
      "  - Lookalike: C0159, Similarity Score: 1.0\n",
      "  - Lookalike: C0007, Similarity Score: 1.0\n",
      "  - Lookalike: C0123, Similarity Score: 1.0\n",
      "\n",
      "\n",
      "Customer ID: C0006\n",
      "Top 3 Lookalikes:\n",
      "  - Lookalike: C0048, Similarity Score: 1.0\n",
      "  - Lookalike: C0137, Similarity Score: 0.99\n",
      "  - Lookalike: C0003, Similarity Score: 0.99\n",
      "\n",
      "\n",
      "Customer ID: C0007\n",
      "Top 3 Lookalikes:\n",
      "  - Lookalike: C0005, Similarity Score: 1.0\n",
      "  - Lookalike: C0159, Similarity Score: 1.0\n",
      "  - Lookalike: C0123, Similarity Score: 0.99\n",
      "\n",
      "\n",
      "Customer ID: C0008\n",
      "Top 3 Lookalikes:\n",
      "  - Lookalike: C0172, Similarity Score: 0.99\n",
      "  - Lookalike: C0127, Similarity Score: 0.99\n",
      "  - Lookalike: C0024, Similarity Score: 0.98\n",
      "\n",
      "\n",
      "Customer ID: C0009\n",
      "Top 3 Lookalikes:\n",
      "  - Lookalike: C0029, Similarity Score: 0.99\n",
      "  - Lookalike: C0131, Similarity Score: 0.98\n",
      "  - Lookalike: C0118, Similarity Score: 0.98\n",
      "\n",
      "\n",
      "Customer ID: C0010\n",
      "Top 3 Lookalikes:\n",
      "  - Lookalike: C0086, Similarity Score: 0.99\n",
      "  - Lookalike: C0197, Similarity Score: 0.99\n",
      "  - Lookalike: C0135, Similarity Score: 0.99\n",
      "\n",
      "\n"
     ]
    }
   ],
   "source": [
    "# Function to find top 3 lookalikes for each customer\n",
    "def get_top_3_lookalikes(similarity_matrix, customer_ids):\n",
    "    lookalikes = {}\n",
    "    for i, customer_id in enumerate(customer_ids):\n",
    "        similar_customers = sorted(list(enumerate(similarity_matrix[i])), key=lambda x: x[1], reverse=True)\n",
    "        top_3 = [(customer_ids[j], round(score, 2)) for j, score in similar_customers[1:4]]\n",
    "        lookalikes[customer_id] = top_3\n",
    "    return lookalikes\n",
    "\n",
    "# Generate lookalikes\n",
    "customer_ids = customer_features['CustomerID'].values\n",
    "lookalikes = get_top_3_lookalikes(similarity_matrix, customer_ids)\n",
    "\n",
    "# Print the first 10 lookalikes\n",
    "for i, (customer_id, top_3) in enumerate(list(lookalikes.items())[:10]):\n",
    "    print(f\"Customer ID: {customer_id}\")\n",
    "    print(\"Top 3 Lookalikes:\")\n",
    "    for lookalike in top_3:\n",
    "        print(f\"  - Lookalike: {lookalike[0]}, Similarity Score: {lookalike[1]}\")\n",
    "    print(\"\\n\")\n"
   ]
  },
  {
   "cell_type": "markdown",
   "metadata": {},
   "source": [
    "SAVING IT AS ``.csv`` FILE"
   ]
  },
  {
   "cell_type": "code",
   "execution_count": 55,
   "metadata": {},
   "outputs": [],
   "source": [
    "# Save to CSV\n",
    "lookalike_df = pd.DataFrame({\n",
    "    'CustomerID': list(lookalikes.keys()),\n",
    "    'Top3_Lookalikes': [str(lookalikes[c]) for c in lookalikes]\n",
    "})\n",
    "lookalike_df.to_csv('NareshRaja_ML_Lookalike.csv', index=False)"
   ]
  }
 ],
 "metadata": {
  "kernelspec": {
   "display_name": "base",
   "language": "python",
   "name": "python3"
  },
  "language_info": {
   "codemirror_mode": {
    "name": "ipython",
    "version": 3
   },
   "file_extension": ".py",
   "mimetype": "text/x-python",
   "name": "python",
   "nbconvert_exporter": "python",
   "pygments_lexer": "ipython3",
   "version": "3.11.7"
  },
  "orig_nbformat": 4
 },
 "nbformat": 4,
 "nbformat_minor": 2
}
